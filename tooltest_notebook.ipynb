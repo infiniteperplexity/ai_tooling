{
 "cells": [
  {
   "cell_type": "code",
   "execution_count": 1,
   "metadata": {},
   "outputs": [],
   "source": [
    "from functools import partial # There are going to be some things we want to initialize lazily to economize on resources and reuse constructor calls.\n",
    "import torch\n",
    "# everything will use the same tokenizer\n",
    "from transformers import AutoTokenizer\n",
    "mistral = \"mistralai/Mistral-7B-v0.1\"\n",
    "tokenizer = AutoTokenizer.from_pretrained(mistral, padding_side = \"right\")\n",
    "tokenizer.pad_token = tokenizer.eos_token"
   ]
  },
  {
   "cell_type": "code",
   "execution_count": 2,
   "metadata": {},
   "outputs": [
    {
     "name": "stdout",
     "output_type": "stream",
     "text": [
      "267_477_061\n",
      "Max length: 236695, estimated tokens: 87_664\n"
     ]
    },
    {
     "data": {
      "application/vnd.jupyter.widget-view+json": {
       "model_id": "a794519d622141bbbc85cbfc43de2ebc",
       "version_major": 2,
       "version_minor": 0
      },
      "text/plain": [
       "Map:   0%|          | 0/217608 [00:00<?, ? examples/s]"
      ]
     },
     "metadata": {},
     "output_type": "display_data"
    },
    {
     "data": {
      "application/vnd.jupyter.widget-view+json": {
       "model_id": "67fe70d29df443b4b7fb0086372ccab4",
       "version_major": 2,
       "version_minor": 0
      },
      "text/plain": [
       "Map:   0%|          | 0/24179 [00:00<?, ? examples/s]"
      ]
     },
     "metadata": {},
     "output_type": "display_data"
    }
   ],
   "source": [
    "## Everything will use the same dataset and dataloaders\n",
    "repo = \"wikimedia/wikipedia\"\n",
    "import datasets\n",
    "ds = datasets.load_dataset(repo, \"20231101.simple\")\n",
    "def quick_estimate_tokens(ds, field=\"text\", chars_per_token=2.7):\n",
    "    tally = 0\n",
    "    max_len = 0\n",
    "    lengths = {}\n",
    "    for row in ds:\n",
    "        l = len(row[field])\n",
    "        tally += l\n",
    "        lengths[l] = lengths.get(l, 0) + 1\n",
    "        if l > max_len:\n",
    "            max_len = l\n",
    "\n",
    "    print(f'{int(tally):_}')\n",
    "    print(f'Max length: {max_len}, estimated tokens: {int(max_len / chars_per_token):_}')\n",
    "    lengths = list(lengths.items())\n",
    "    lengths.sort(reverse=True)\n",
    "    return int(tally/chars_per_token), lengths\n",
    "\n",
    "total, length = quick_estimate_tokens(ds['train'], field=\"text\")\n",
    "ds = ds[\"train\"].train_test_split(test_size=0.1)\n",
    "\n",
    "max_tokens = 512\n",
    "def batch_tokenize(batch):\n",
    "    return {\"input_ids\": tokenizer(batch[\"text\"], padding=\"max_length\", truncation=True, max_length=max_tokens).input_ids}\n",
    "\n",
    "tokenized = ds.map(batch_tokenize, batched=True, batch_size=1000)\n",
    "\n",
    "from torch.utils.data import DataLoader\n",
    "\n",
    "tokenized.set_format(type='torch', columns=['input_ids'])"
   ]
  },
  {
   "cell_type": "code",
   "execution_count": 21,
   "metadata": {},
   "outputs": [
    {
     "name": "stdout",
     "output_type": "stream",
     "text": [
      "The autoreload extension is already loaded. To reload it, use:\n",
      "  %reload_ext autoreload\n",
      "note: tying weights\n",
      "note: tying weights\n",
      "Base / test model:\n",
      "10_554_880 / 10_554_880 parameters;\n",
      "2_362_880 / 2_362_880 without embeddings.\n"
     ]
    }
   ],
   "source": [
    "%load_ext autoreload\n",
    "%autoreload 2\n",
    "\n",
    "batch_size = 32\n",
    "train_loader = DataLoader(tokenized[\"train\"], batch_size=batch_size, shuffle = True)\n",
    "eval_loader = DataLoader(tokenized[\"test\"], batch_size=32, shuffle = False)\n",
    "\n",
    "\n",
    "import sys\n",
    "path = r'C:\\Users\\infin\\OneDrive\\Documents\\GitHub\\aimodels\\projects\\tooling'\n",
    "sys.path.insert(0, path)\n",
    "from mixers import MixerModel, EmbeddingVectorizer, EmbeddingAndPositionalVectorizer, AttentionMixer, GatedStateMixer, no_activation, LinearAttentionMixer\n",
    "import torch\n",
    "from functools import partial\n",
    "model_dim, layers, heads = 256, 3, 4\n",
    "max_seq_len = 512 ## !!! Should we factor this out of being a required argument?  Or is it, even, now?\n",
    "\n",
    "base_model = MixerModel(\n",
    "    model_size = model_dim,\n",
    "    num_layers = layers,\n",
    "    max_seq_len = 512, \n",
    "    vectorizer = EmbeddingVectorizer,\n",
    "    seq_mixer = (AttentionMixer, {\"num_heads\": heads, \"apply_rope\": True}),\n",
    "    tokenizer = tokenizer,\n",
    ")\n",
    "\n",
    "test_model = MixerModel(\n",
    "    model_size = model_dim,\n",
    "    num_layers = layers,\n",
    "    max_seq_len = 512,\n",
    "    vectorizer = EmbeddingVectorizer,\n",
    "    seq_mixer = (LinearAttentionMixer, {\"num_heads\": heads, \"apply_rope\": True, \"feature_map\": LinearAttentionMixer.taylor_expansion}),\n",
    "    tokenizer = tokenizer,\n",
    ")\n",
    "\n",
    "print(\n",
    "f\"\"\"Base / test model:\n",
    "{base_model.num_parameters():_} / {test_model.num_parameters():_} parameters;\n",
    "{base_model.num_parameters(include_embeddings = False):_} / {test_model.num_parameters(include_embeddings=False):_} without embeddings.\"\"\"\n",
    ")"
   ]
  },
  {
   "cell_type": "code",
   "execution_count": 14,
   "metadata": {},
   "outputs": [
    {
     "name": "stdout",
     "output_type": "stream",
     "text": [
      "Training for 2 epochs starting from epoch 1; 6801 steps per epoch.\n",
      "Beginning epoch 1\n",
      "{'mode': 'train', 'epoch': 1, 'step': 250, 'steps': 250, 'seconds': 19.169811964035034, 'total_seconds': 19.169811964035034, 'loss': 8.573249092102051, 'ppl': 5288.28271484375}\n",
      "{'mode': 'train', 'epoch': 1, 'step': 500, 'steps': 250, 'seconds': 18.491865634918213, 'total_seconds': 37.66167759895325, 'loss': 5.82037721824646, 'ppl': 337.0992431640625}\n",
      "{'mode': 'train', 'epoch': 1, 'step': 750, 'steps': 250, 'seconds': 18.40096664428711, 'total_seconds': 56.062644243240356, 'loss': 4.985503973007202, 'ppl': 146.2772979736328}\n",
      "{'mode': 'train', 'epoch': 1, 'step': 1000, 'steps': 250, 'seconds': 18.44843029975891, 'total_seconds': 74.51107454299927, 'loss': 4.5791409282684326, 'ppl': 97.43067932128906}\n",
      "{'mode': 'train', 'epoch': 1, 'step': 1250, 'steps': 250, 'seconds': 18.46306300163269, 'total_seconds': 92.97413754463196, 'loss': 4.288870355606079, 'ppl': 72.88408660888672}\n",
      "{'mode': 'train', 'epoch': 1, 'step': 1500, 'steps': 250, 'seconds': 18.71122455596924, 'total_seconds': 111.6853621006012, 'loss': 4.053894397735596, 'ppl': 57.621429443359375}\n",
      "{'mode': 'train', 'epoch': 1, 'step': 1750, 'steps': 250, 'seconds': 18.59215784072876, 'total_seconds': 130.27751994132996, 'loss': 3.892636203765869, 'ppl': 49.040000915527344}\n",
      "{'mode': 'train', 'epoch': 1, 'step': 2000, 'steps': 250, 'seconds': 18.711390018463135, 'total_seconds': 148.9889099597931, 'loss': 3.75871484375, 'ppl': 42.89326858520508}\n",
      "{'mode': 'train', 'epoch': 1, 'step': 2250, 'steps': 250, 'seconds': 18.67581081390381, 'total_seconds': 167.6647207736969, 'loss': 3.66392649269104, 'ppl': 39.01423645019531}\n",
      "{'mode': 'train', 'epoch': 1, 'step': 2500, 'steps': 250, 'seconds': 18.544442415237427, 'total_seconds': 186.20916318893433, 'loss': 3.491432012557983, 'ppl': 32.83292770385742}\n",
      "{'mode': 'train', 'epoch': 1, 'step': 2750, 'steps': 250, 'seconds': 18.592145442962646, 'total_seconds': 204.80130863189697, 'loss': 3.3861821489334107, 'ppl': 29.552906036376953}\n",
      "{'mode': 'train', 'epoch': 1, 'step': 3000, 'steps': 250, 'seconds': 18.481038570404053, 'total_seconds': 223.28234720230103, 'loss': 3.298990273475647, 'ppl': 27.085275650024414}\n",
      "{'mode': 'train', 'epoch': 1, 'step': 3250, 'steps': 250, 'seconds': 18.554989099502563, 'total_seconds': 241.8373363018036, 'loss': 3.233923065185547, 'ppl': 25.3790225982666}\n",
      "{'mode': 'train', 'epoch': 1, 'step': 3500, 'steps': 250, 'seconds': 18.65485644340515, 'total_seconds': 260.49219274520874, 'loss': 3.202908441543579, 'ppl': 24.603986740112305}\n",
      "{'mode': 'train', 'epoch': 1, 'step': 3750, 'steps': 250, 'seconds': 18.66252613067627, 'total_seconds': 279.154718875885, 'loss': 3.171776984214783, 'ppl': 23.849828720092773}\n",
      "{'mode': 'train', 'epoch': 1, 'step': 4000, 'steps': 250, 'seconds': 18.64515495300293, 'total_seconds': 297.79987382888794, 'loss': 3.164940877914429, 'ppl': 23.687341690063477}\n",
      "{'mode': 'train', 'epoch': 1, 'step': 4250, 'steps': 250, 'seconds': 18.65324592590332, 'total_seconds': 316.45311975479126, 'loss': 3.0886886358261108, 'ppl': 21.94827651977539}\n",
      "{'mode': 'train', 'epoch': 1, 'step': 4500, 'steps': 250, 'seconds': 18.717714309692383, 'total_seconds': 335.17083406448364, 'loss': 3.084841923713684, 'ppl': 21.864011764526367}\n",
      "{'mode': 'train', 'epoch': 1, 'step': 4750, 'steps': 250, 'seconds': 18.796419858932495, 'total_seconds': 353.96725392341614, 'loss': 3.053240846633911, 'ppl': 21.18388557434082}\n",
      "{'mode': 'train', 'epoch': 1, 'step': 5000, 'steps': 250, 'seconds': 18.581185579299927, 'total_seconds': 372.54843950271606, 'loss': 3.0395046997070314, 'ppl': 20.894893646240234}\n",
      "{'mode': 'train', 'epoch': 1, 'step': 5250, 'steps': 250, 'seconds': 18.696590423583984, 'total_seconds': 391.24502992630005, 'loss': 3.0279083166122436, 'ppl': 20.65398597717285}\n",
      "{'mode': 'train', 'epoch': 1, 'step': 5500, 'steps': 250, 'seconds': 18.47317862510681, 'total_seconds': 409.71820855140686, 'loss': 3.0060821352005003, 'ppl': 20.208070755004883}\n",
      "{'mode': 'train', 'epoch': 1, 'step': 5750, 'steps': 250, 'seconds': 18.61843252182007, 'total_seconds': 428.33664107322693, 'loss': 2.980703456878662, 'ppl': 19.701669692993164}\n",
      "{'mode': 'train', 'epoch': 1, 'step': 6000, 'steps': 250, 'seconds': 18.538945198059082, 'total_seconds': 446.875586271286, 'loss': 2.9859089241027834, 'ppl': 19.80449676513672}\n",
      "{'mode': 'train', 'epoch': 1, 'step': 6250, 'steps': 250, 'seconds': 18.658499240875244, 'total_seconds': 465.53408551216125, 'loss': 2.959749538421631, 'ppl': 19.293136596679688}\n",
      "{'mode': 'train', 'epoch': 1, 'step': 6500, 'steps': 250, 'seconds': 18.553553819656372, 'total_seconds': 484.0876393318176, 'loss': 2.954447720527649, 'ppl': 19.19112205505371}\n",
      "{'mode': 'train', 'epoch': 1, 'step': 6750, 'steps': 250, 'seconds': 18.576980113983154, 'total_seconds': 502.6646194458008, 'loss': 2.9710936698913573, 'ppl': 19.513248443603516}\n",
      "{'mode': 'train', 'epoch': 1, 'step': 6801, 'steps': 51, 'seconds': 3.7818119525909424, 'total_seconds': 506.4464313983917, 'loss': 2.91782779787101, 'ppl': 18.501056671142578}\n",
      "{'mode': 'eval', 'epoch': 1, 'step': 756, 'steps': 756, 'seconds': 28.797224044799805, 'total_seconds': 535.2436554431915, 'loss': 2.9310546403839473, 'ppl': 18.747390747070312}\n",
      "Beginning epoch 2\n",
      "{'mode': 'train', 'epoch': 2, 'step': 250, 'steps': 250, 'seconds': 18.653086185455322, 'total_seconds': 553.8967416286469, 'loss': 2.8845962285995483, 'ppl': 17.89634132385254}\n",
      "{'mode': 'train', 'epoch': 2, 'step': 500, 'steps': 250, 'seconds': 18.94822382926941, 'total_seconds': 572.8449654579163, 'loss': 2.8707340450286867, 'ppl': 17.649967193603516}\n",
      "{'mode': 'train', 'epoch': 2, 'step': 750, 'steps': 250, 'seconds': 18.555418729782104, 'total_seconds': 591.4003841876984, 'loss': 2.8655075521469118, 'ppl': 17.557964324951172}\n",
      "{'mode': 'train', 'epoch': 2, 'step': 1000, 'steps': 250, 'seconds': 19.357316970825195, 'total_seconds': 610.7577011585236, 'loss': 2.8568442907333376, 'ppl': 17.406509399414062}\n",
      "training ended by early stopping callback\n",
      "running cleanup routines\n"
     ]
    }
   ],
   "source": [
    "from train import Trainer, SimpleTestCallback, ResidualGatingWarmupCallback, get_warmup_schedule, TimedStoppingCallback, PerplexityStoppingCallback\n",
    "base_trainer = Trainer(\n",
    "    base_model,\n",
    "    train_loader,\n",
    "    eval_loader = eval_loader,\n",
    "    device = \"cuda\",\n",
    "    tokenizer = tokenizer,\n",
    "    log_every = 250,\n",
    "    eval_every = 10_000,\n",
    "    schedule = get_warmup_schedule(),\n",
    "    autocast_dtype = torch.bfloat16,\n",
    "    callbacks = [TimedStoppingCallback(600)]\n",
    ")\n",
    "base_trainer.train(2)\n"
   ]
  },
  {
   "cell_type": "code",
   "execution_count": 22,
   "metadata": {},
   "outputs": [
    {
     "name": "stdout",
     "output_type": "stream",
     "text": [
      "Training for 2 epochs starting from epoch 1; 6801 steps per epoch.\n",
      "Beginning epoch 1\n",
      "running cleanup routines\n"
     ]
    },
    {
     "ename": "AttributeError",
     "evalue": "'float' object has no attribute 'to'",
     "output_type": "error",
     "traceback": [
      "\u001b[1;31m---------------------------------------------------------------------------\u001b[0m",
      "\u001b[1;31mAttributeError\u001b[0m                            Traceback (most recent call last)",
      "Cell \u001b[1;32mIn[22], line 14\u001b[0m\n\u001b[0;32m      1\u001b[0m \u001b[38;5;28;01mfrom\u001b[39;00m \u001b[38;5;21;01mtrain\u001b[39;00m \u001b[38;5;28;01mimport\u001b[39;00m Trainer, SimpleTestCallback, ResidualGatingWarmupCallback, get_warmup_schedule, TimedStoppingCallback, PerplexityStoppingCallback\n\u001b[0;32m      2\u001b[0m test_trainer \u001b[38;5;241m=\u001b[39m Trainer(\n\u001b[0;32m      3\u001b[0m     test_model,\n\u001b[0;32m      4\u001b[0m     train_loader,\n\u001b[1;32m   (...)\u001b[0m\n\u001b[0;32m     12\u001b[0m     callbacks \u001b[38;5;241m=\u001b[39m [TimedStoppingCallback(\u001b[38;5;241m600\u001b[39m)]\n\u001b[0;32m     13\u001b[0m )\n\u001b[1;32m---> 14\u001b[0m \u001b[43mtest_trainer\u001b[49m\u001b[38;5;241;43m.\u001b[39;49m\u001b[43mtrain\u001b[49m\u001b[43m(\u001b[49m\u001b[38;5;241;43m2\u001b[39;49m\u001b[43m)\u001b[49m\n",
      "File \u001b[1;32m~\\OneDrive\\Documents\\GitHub\\aimodels\\projects\\tooling\\train.py:458\u001b[0m, in \u001b[0;36mTrainer.train\u001b[1;34m(self, epochs)\u001b[0m\n\u001b[0;32m    456\u001b[0m \u001b[38;5;28;01mfor\u001b[39;00m split \u001b[38;5;129;01min\u001b[39;00m split_batch:\n\u001b[0;32m    457\u001b[0m     \u001b[38;5;28;01mwith\u001b[39;00m torch\u001b[38;5;241m.\u001b[39mautocast(enabled \u001b[38;5;241m=\u001b[39m \u001b[38;5;28mself\u001b[39m\u001b[38;5;241m.\u001b[39mautocast_dtype \u001b[38;5;241m!=\u001b[39m torch\u001b[38;5;241m.\u001b[39mfloat32, device_type \u001b[38;5;241m=\u001b[39m \u001b[38;5;28mself\u001b[39m\u001b[38;5;241m.\u001b[39mdevice\u001b[38;5;241m.\u001b[39mtype, dtype \u001b[38;5;241m=\u001b[39m \u001b[38;5;28mself\u001b[39m\u001b[38;5;241m.\u001b[39mautocast_dtype):\n\u001b[1;32m--> 458\u001b[0m         output \u001b[38;5;241m=\u001b[39m \u001b[38;5;28;43mself\u001b[39;49m\u001b[38;5;241;43m.\u001b[39;49m\u001b[43mforward_batch\u001b[49m\u001b[43m(\u001b[49m\u001b[38;5;28;43mself\u001b[39;49m\u001b[38;5;241;43m.\u001b[39;49m\u001b[43mmodel\u001b[49m\u001b[43m,\u001b[49m\u001b[43m \u001b[49m\u001b[43msplit\u001b[49m\u001b[43m)\u001b[49m\n\u001b[0;32m    459\u001b[0m         loss \u001b[38;5;241m=\u001b[39m \u001b[38;5;28mself\u001b[39m\u001b[38;5;241m.\u001b[39mbatch_loss(split, output, pad_token_id \u001b[38;5;241m=\u001b[39m \u001b[38;5;28mself\u001b[39m\u001b[38;5;241m.\u001b[39mpad_token_id)\n\u001b[0;32m    460\u001b[0m         loss_item \u001b[38;5;241m=\u001b[39m loss\u001b[38;5;241m.\u001b[39mitem() \u001b[38;5;66;03m# this seems like the safest way to do it\u001b[39;00m\n",
      "File \u001b[1;32m~\\OneDrive\\Documents\\GitHub\\aimodels\\projects\\tooling\\train.py:21\u001b[0m, in \u001b[0;36mdefault_forward_batch\u001b[1;34m(model, batch)\u001b[0m\n\u001b[0;32m     19\u001b[0m x, _ \u001b[38;5;241m=\u001b[39m unpack_batch(batch)\n\u001b[0;32m     20\u001b[0m x \u001b[38;5;241m=\u001b[39m x\u001b[38;5;241m.\u001b[39mto(model\u001b[38;5;241m.\u001b[39mdevice)\n\u001b[1;32m---> 21\u001b[0m logits \u001b[38;5;241m=\u001b[39m \u001b[43mmodel\u001b[49m\u001b[43m(\u001b[49m\u001b[43mx\u001b[49m\u001b[43m)\u001b[49m\n\u001b[0;32m     22\u001b[0m \u001b[38;5;28;01mreturn\u001b[39;00m logits\n",
      "File \u001b[1;32mc:\\Users\\infin\\anaconda3\\lib\\site-packages\\torch\\nn\\modules\\module.py:1501\u001b[0m, in \u001b[0;36mModule._call_impl\u001b[1;34m(self, *args, **kwargs)\u001b[0m\n\u001b[0;32m   1496\u001b[0m \u001b[38;5;66;03m# If we don't have any hooks, we want to skip the rest of the logic in\u001b[39;00m\n\u001b[0;32m   1497\u001b[0m \u001b[38;5;66;03m# this function, and just call forward.\u001b[39;00m\n\u001b[0;32m   1498\u001b[0m \u001b[38;5;28;01mif\u001b[39;00m \u001b[38;5;129;01mnot\u001b[39;00m (\u001b[38;5;28mself\u001b[39m\u001b[38;5;241m.\u001b[39m_backward_hooks \u001b[38;5;129;01mor\u001b[39;00m \u001b[38;5;28mself\u001b[39m\u001b[38;5;241m.\u001b[39m_backward_pre_hooks \u001b[38;5;129;01mor\u001b[39;00m \u001b[38;5;28mself\u001b[39m\u001b[38;5;241m.\u001b[39m_forward_hooks \u001b[38;5;129;01mor\u001b[39;00m \u001b[38;5;28mself\u001b[39m\u001b[38;5;241m.\u001b[39m_forward_pre_hooks\n\u001b[0;32m   1499\u001b[0m         \u001b[38;5;129;01mor\u001b[39;00m _global_backward_pre_hooks \u001b[38;5;129;01mor\u001b[39;00m _global_backward_hooks\n\u001b[0;32m   1500\u001b[0m         \u001b[38;5;129;01mor\u001b[39;00m _global_forward_hooks \u001b[38;5;129;01mor\u001b[39;00m _global_forward_pre_hooks):\n\u001b[1;32m-> 1501\u001b[0m     \u001b[38;5;28;01mreturn\u001b[39;00m forward_call(\u001b[38;5;241m*\u001b[39margs, \u001b[38;5;241m*\u001b[39m\u001b[38;5;241m*\u001b[39mkwargs)\n\u001b[0;32m   1502\u001b[0m \u001b[38;5;66;03m# Do not call functions when jit is used\u001b[39;00m\n\u001b[0;32m   1503\u001b[0m full_backward_hooks, non_full_backward_hooks \u001b[38;5;241m=\u001b[39m [], []\n",
      "File \u001b[1;32m~\\OneDrive\\Documents\\GitHub\\aimodels\\projects\\tooling\\mixers.py:809\u001b[0m, in \u001b[0;36mMixerModel.forward\u001b[1;34m(self, x)\u001b[0m\n\u001b[0;32m    807\u001b[0m x \u001b[38;5;241m=\u001b[39m \u001b[38;5;28mself\u001b[39m\u001b[38;5;241m.\u001b[39mvectorizer(x)\n\u001b[0;32m    808\u001b[0m x \u001b[38;5;241m=\u001b[39m x \u001b[38;5;28;01mif\u001b[39;00m \u001b[38;5;28mself\u001b[39m\u001b[38;5;241m.\u001b[39minitial_norm \u001b[38;5;129;01mis\u001b[39;00m \u001b[38;5;28;01mNone\u001b[39;00m \u001b[38;5;28;01melse\u001b[39;00m \u001b[38;5;28mself\u001b[39m\u001b[38;5;241m.\u001b[39minitial_norm(x)\n\u001b[1;32m--> 809\u001b[0m x \u001b[38;5;241m=\u001b[39m \u001b[38;5;28;43mself\u001b[39;49m\u001b[38;5;241;43m.\u001b[39;49m\u001b[43mdecoder\u001b[49m\u001b[43m(\u001b[49m\u001b[43mx\u001b[49m\u001b[43m)\u001b[49m\n\u001b[0;32m    810\u001b[0m x \u001b[38;5;241m=\u001b[39m x \u001b[38;5;28;01mif\u001b[39;00m \u001b[38;5;28mself\u001b[39m\u001b[38;5;241m.\u001b[39mfinal_norm \u001b[38;5;129;01mis\u001b[39;00m \u001b[38;5;28;01mNone\u001b[39;00m \u001b[38;5;28;01melse\u001b[39;00m \u001b[38;5;28mself\u001b[39m\u001b[38;5;241m.\u001b[39mfinal_norm(x)\n\u001b[0;32m    811\u001b[0m x \u001b[38;5;241m=\u001b[39m \u001b[38;5;28mself\u001b[39m\u001b[38;5;241m.\u001b[39mhead(x)\n",
      "File \u001b[1;32mc:\\Users\\infin\\anaconda3\\lib\\site-packages\\torch\\nn\\modules\\module.py:1501\u001b[0m, in \u001b[0;36mModule._call_impl\u001b[1;34m(self, *args, **kwargs)\u001b[0m\n\u001b[0;32m   1496\u001b[0m \u001b[38;5;66;03m# If we don't have any hooks, we want to skip the rest of the logic in\u001b[39;00m\n\u001b[0;32m   1497\u001b[0m \u001b[38;5;66;03m# this function, and just call forward.\u001b[39;00m\n\u001b[0;32m   1498\u001b[0m \u001b[38;5;28;01mif\u001b[39;00m \u001b[38;5;129;01mnot\u001b[39;00m (\u001b[38;5;28mself\u001b[39m\u001b[38;5;241m.\u001b[39m_backward_hooks \u001b[38;5;129;01mor\u001b[39;00m \u001b[38;5;28mself\u001b[39m\u001b[38;5;241m.\u001b[39m_backward_pre_hooks \u001b[38;5;129;01mor\u001b[39;00m \u001b[38;5;28mself\u001b[39m\u001b[38;5;241m.\u001b[39m_forward_hooks \u001b[38;5;129;01mor\u001b[39;00m \u001b[38;5;28mself\u001b[39m\u001b[38;5;241m.\u001b[39m_forward_pre_hooks\n\u001b[0;32m   1499\u001b[0m         \u001b[38;5;129;01mor\u001b[39;00m _global_backward_pre_hooks \u001b[38;5;129;01mor\u001b[39;00m _global_backward_hooks\n\u001b[0;32m   1500\u001b[0m         \u001b[38;5;129;01mor\u001b[39;00m _global_forward_hooks \u001b[38;5;129;01mor\u001b[39;00m _global_forward_pre_hooks):\n\u001b[1;32m-> 1501\u001b[0m     \u001b[38;5;28;01mreturn\u001b[39;00m forward_call(\u001b[38;5;241m*\u001b[39margs, \u001b[38;5;241m*\u001b[39m\u001b[38;5;241m*\u001b[39mkwargs)\n\u001b[0;32m   1502\u001b[0m \u001b[38;5;66;03m# Do not call functions when jit is used\u001b[39;00m\n\u001b[0;32m   1503\u001b[0m full_backward_hooks, non_full_backward_hooks \u001b[38;5;241m=\u001b[39m [], []\n",
      "File \u001b[1;32m~\\OneDrive\\Documents\\GitHub\\aimodels\\projects\\tooling\\mixers.py:646\u001b[0m, in \u001b[0;36mDecoderBackbone.forward\u001b[1;34m(self, x)\u001b[0m\n\u001b[0;32m    644\u001b[0m \u001b[38;5;28;01mdef\u001b[39;00m \u001b[38;5;21mforward\u001b[39m(\u001b[38;5;28mself\u001b[39m, x):\n\u001b[0;32m    645\u001b[0m     \u001b[38;5;28;01mfor\u001b[39;00m layer \u001b[38;5;129;01min\u001b[39;00m \u001b[38;5;28mself\u001b[39m\u001b[38;5;241m.\u001b[39mlayers:\n\u001b[1;32m--> 646\u001b[0m         x \u001b[38;5;241m=\u001b[39m \u001b[43mlayer\u001b[49m\u001b[43m(\u001b[49m\u001b[43mx\u001b[49m\u001b[43m)\u001b[49m\n\u001b[0;32m    647\u001b[0m     \u001b[38;5;28;01mreturn\u001b[39;00m x\n",
      "File \u001b[1;32mc:\\Users\\infin\\anaconda3\\lib\\site-packages\\torch\\nn\\modules\\module.py:1501\u001b[0m, in \u001b[0;36mModule._call_impl\u001b[1;34m(self, *args, **kwargs)\u001b[0m\n\u001b[0;32m   1496\u001b[0m \u001b[38;5;66;03m# If we don't have any hooks, we want to skip the rest of the logic in\u001b[39;00m\n\u001b[0;32m   1497\u001b[0m \u001b[38;5;66;03m# this function, and just call forward.\u001b[39;00m\n\u001b[0;32m   1498\u001b[0m \u001b[38;5;28;01mif\u001b[39;00m \u001b[38;5;129;01mnot\u001b[39;00m (\u001b[38;5;28mself\u001b[39m\u001b[38;5;241m.\u001b[39m_backward_hooks \u001b[38;5;129;01mor\u001b[39;00m \u001b[38;5;28mself\u001b[39m\u001b[38;5;241m.\u001b[39m_backward_pre_hooks \u001b[38;5;129;01mor\u001b[39;00m \u001b[38;5;28mself\u001b[39m\u001b[38;5;241m.\u001b[39m_forward_hooks \u001b[38;5;129;01mor\u001b[39;00m \u001b[38;5;28mself\u001b[39m\u001b[38;5;241m.\u001b[39m_forward_pre_hooks\n\u001b[0;32m   1499\u001b[0m         \u001b[38;5;129;01mor\u001b[39;00m _global_backward_pre_hooks \u001b[38;5;129;01mor\u001b[39;00m _global_backward_hooks\n\u001b[0;32m   1500\u001b[0m         \u001b[38;5;129;01mor\u001b[39;00m _global_forward_hooks \u001b[38;5;129;01mor\u001b[39;00m _global_forward_pre_hooks):\n\u001b[1;32m-> 1501\u001b[0m     \u001b[38;5;28;01mreturn\u001b[39;00m forward_call(\u001b[38;5;241m*\u001b[39margs, \u001b[38;5;241m*\u001b[39m\u001b[38;5;241m*\u001b[39mkwargs)\n\u001b[0;32m   1502\u001b[0m \u001b[38;5;66;03m# Do not call functions when jit is used\u001b[39;00m\n\u001b[0;32m   1503\u001b[0m full_backward_hooks, non_full_backward_hooks \u001b[38;5;241m=\u001b[39m [], []\n",
      "File \u001b[1;32m~\\OneDrive\\Documents\\GitHub\\aimodels\\projects\\tooling\\mixers.py:547\u001b[0m, in \u001b[0;36mLayerBlock.forward\u001b[1;34m(self, x)\u001b[0m\n\u001b[0;32m    545\u001b[0m \u001b[38;5;28;01mdef\u001b[39;00m \u001b[38;5;21mforward\u001b[39m(\u001b[38;5;28mself\u001b[39m, x):\n\u001b[0;32m    546\u001b[0m     \u001b[38;5;28;01mfor\u001b[39;00m k, v \u001b[38;5;129;01min\u001b[39;00m \u001b[38;5;28mself\u001b[39m\u001b[38;5;241m.\u001b[39mitems():\n\u001b[1;32m--> 547\u001b[0m         x \u001b[38;5;241m=\u001b[39m \u001b[43mv\u001b[49m\u001b[43m(\u001b[49m\u001b[43mx\u001b[49m\u001b[43m)\u001b[49m\n\u001b[0;32m    548\u001b[0m     \u001b[38;5;28;01mreturn\u001b[39;00m x\n",
      "File \u001b[1;32mc:\\Users\\infin\\anaconda3\\lib\\site-packages\\torch\\nn\\modules\\module.py:1501\u001b[0m, in \u001b[0;36mModule._call_impl\u001b[1;34m(self, *args, **kwargs)\u001b[0m\n\u001b[0;32m   1496\u001b[0m \u001b[38;5;66;03m# If we don't have any hooks, we want to skip the rest of the logic in\u001b[39;00m\n\u001b[0;32m   1497\u001b[0m \u001b[38;5;66;03m# this function, and just call forward.\u001b[39;00m\n\u001b[0;32m   1498\u001b[0m \u001b[38;5;28;01mif\u001b[39;00m \u001b[38;5;129;01mnot\u001b[39;00m (\u001b[38;5;28mself\u001b[39m\u001b[38;5;241m.\u001b[39m_backward_hooks \u001b[38;5;129;01mor\u001b[39;00m \u001b[38;5;28mself\u001b[39m\u001b[38;5;241m.\u001b[39m_backward_pre_hooks \u001b[38;5;129;01mor\u001b[39;00m \u001b[38;5;28mself\u001b[39m\u001b[38;5;241m.\u001b[39m_forward_hooks \u001b[38;5;129;01mor\u001b[39;00m \u001b[38;5;28mself\u001b[39m\u001b[38;5;241m.\u001b[39m_forward_pre_hooks\n\u001b[0;32m   1499\u001b[0m         \u001b[38;5;129;01mor\u001b[39;00m _global_backward_pre_hooks \u001b[38;5;129;01mor\u001b[39;00m _global_backward_hooks\n\u001b[0;32m   1500\u001b[0m         \u001b[38;5;129;01mor\u001b[39;00m _global_forward_hooks \u001b[38;5;129;01mor\u001b[39;00m _global_forward_pre_hooks):\n\u001b[1;32m-> 1501\u001b[0m     \u001b[38;5;28;01mreturn\u001b[39;00m forward_call(\u001b[38;5;241m*\u001b[39margs, \u001b[38;5;241m*\u001b[39m\u001b[38;5;241m*\u001b[39mkwargs)\n\u001b[0;32m   1502\u001b[0m \u001b[38;5;66;03m# Do not call functions when jit is used\u001b[39;00m\n\u001b[0;32m   1503\u001b[0m full_backward_hooks, non_full_backward_hooks \u001b[38;5;241m=\u001b[39m [], []\n",
      "File \u001b[1;32m~\\OneDrive\\Documents\\GitHub\\aimodels\\projects\\tooling\\mixers.py:561\u001b[0m, in \u001b[0;36mPreNormResidualBlock.forward\u001b[1;34m(self, x)\u001b[0m\n\u001b[0;32m    559\u001b[0m residual \u001b[38;5;241m=\u001b[39m x\n\u001b[0;32m    560\u001b[0m \u001b[38;5;28;01mfor\u001b[39;00m key \u001b[38;5;129;01min\u001b[39;00m \u001b[38;5;28mself\u001b[39m\u001b[38;5;241m.\u001b[39mlayer_order:\n\u001b[1;32m--> 561\u001b[0m     x \u001b[38;5;241m=\u001b[39m \u001b[38;5;28;43mself\u001b[39;49m\u001b[43m[\u001b[49m\u001b[43mkey\u001b[49m\u001b[43m]\u001b[49m\u001b[43m(\u001b[49m\u001b[43mx\u001b[49m\u001b[43m)\u001b[49m\n\u001b[0;32m    562\u001b[0m x \u001b[38;5;241m=\u001b[39m x \u001b[38;5;241m+\u001b[39m residual\n\u001b[0;32m    563\u001b[0m \u001b[38;5;28;01mreturn\u001b[39;00m x\n",
      "File \u001b[1;32mc:\\Users\\infin\\anaconda3\\lib\\site-packages\\torch\\nn\\modules\\module.py:1501\u001b[0m, in \u001b[0;36mModule._call_impl\u001b[1;34m(self, *args, **kwargs)\u001b[0m\n\u001b[0;32m   1496\u001b[0m \u001b[38;5;66;03m# If we don't have any hooks, we want to skip the rest of the logic in\u001b[39;00m\n\u001b[0;32m   1497\u001b[0m \u001b[38;5;66;03m# this function, and just call forward.\u001b[39;00m\n\u001b[0;32m   1498\u001b[0m \u001b[38;5;28;01mif\u001b[39;00m \u001b[38;5;129;01mnot\u001b[39;00m (\u001b[38;5;28mself\u001b[39m\u001b[38;5;241m.\u001b[39m_backward_hooks \u001b[38;5;129;01mor\u001b[39;00m \u001b[38;5;28mself\u001b[39m\u001b[38;5;241m.\u001b[39m_backward_pre_hooks \u001b[38;5;129;01mor\u001b[39;00m \u001b[38;5;28mself\u001b[39m\u001b[38;5;241m.\u001b[39m_forward_hooks \u001b[38;5;129;01mor\u001b[39;00m \u001b[38;5;28mself\u001b[39m\u001b[38;5;241m.\u001b[39m_forward_pre_hooks\n\u001b[0;32m   1499\u001b[0m         \u001b[38;5;129;01mor\u001b[39;00m _global_backward_pre_hooks \u001b[38;5;129;01mor\u001b[39;00m _global_backward_hooks\n\u001b[0;32m   1500\u001b[0m         \u001b[38;5;129;01mor\u001b[39;00m _global_forward_hooks \u001b[38;5;129;01mor\u001b[39;00m _global_forward_pre_hooks):\n\u001b[1;32m-> 1501\u001b[0m     \u001b[38;5;28;01mreturn\u001b[39;00m forward_call(\u001b[38;5;241m*\u001b[39margs, \u001b[38;5;241m*\u001b[39m\u001b[38;5;241m*\u001b[39mkwargs)\n\u001b[0;32m   1502\u001b[0m \u001b[38;5;66;03m# Do not call functions when jit is used\u001b[39;00m\n\u001b[0;32m   1503\u001b[0m full_backward_hooks, non_full_backward_hooks \u001b[38;5;241m=\u001b[39m [], []\n",
      "File \u001b[1;32m~\\OneDrive\\Documents\\GitHub\\aimodels\\projects\\tooling\\mixers.py:326\u001b[0m, in \u001b[0;36mLinearAttentionMixer.forward\u001b[1;34m(self, x)\u001b[0m\n\u001b[0;32m    324\u001b[0m     keys \u001b[38;5;241m=\u001b[39m RoPE\u001b[38;5;241m.\u001b[39membed(keys, head_size \u001b[38;5;241m=\u001b[39m \u001b[38;5;28mself\u001b[39m\u001b[38;5;241m.\u001b[39mhead_dim)\n\u001b[0;32m    325\u001b[0m \u001b[38;5;66;03m# apply feature maps\u001b[39;00m\n\u001b[1;32m--> 326\u001b[0m queries \u001b[38;5;241m=\u001b[39m \u001b[38;5;28;43mself\u001b[39;49m\u001b[38;5;241;43m.\u001b[39;49m\u001b[43mfeature_map\u001b[49m\u001b[43m(\u001b[49m\u001b[43mqueries\u001b[49m\u001b[43m,\u001b[49m\u001b[43m \u001b[49m\u001b[38;5;28;43mself\u001b[39;49m\u001b[38;5;241;43m.\u001b[39;49m\u001b[43mhead_dim\u001b[49m\u001b[43m)\u001b[49m\n\u001b[0;32m    327\u001b[0m keys \u001b[38;5;241m=\u001b[39m \u001b[38;5;28mself\u001b[39m\u001b[38;5;241m.\u001b[39mfeature_map(keys, \u001b[38;5;28mself\u001b[39m\u001b[38;5;241m.\u001b[39mhead_dim)\n\u001b[0;32m    328\u001b[0m \u001b[38;5;66;03m# compute linear attention\u001b[39;00m\n",
      "File \u001b[1;32m~\\OneDrive\\Documents\\GitHub\\aimodels\\projects\\tooling\\mixers.py:308\u001b[0m, in \u001b[0;36mLinearAttentionMixer.taylor_expansion\u001b[1;34m(cls, x, head_dim)\u001b[0m\n\u001b[0;32m    306\u001b[0m device \u001b[38;5;241m=\u001b[39m x\u001b[38;5;241m.\u001b[39mdevice\n\u001b[0;32m    307\u001b[0m _1 \u001b[38;5;241m=\u001b[39m torch\u001b[38;5;241m.\u001b[39mones(x[:,:,:,:\u001b[38;5;241m1\u001b[39m]\u001b[38;5;241m.\u001b[39mshape)\n\u001b[1;32m--> 308\u001b[0m _x \u001b[38;5;241m=\u001b[39m x \u001b[38;5;241m/\u001b[39m \u001b[38;5;28mcls\u001b[39m\u001b[38;5;241m.\u001b[39m_cached_sqrt(\u001b[38;5;28;43mcls\u001b[39;49m\u001b[38;5;241;43m.\u001b[39;49m\u001b[43m_cached_sqrt\u001b[49m\u001b[43m(\u001b[49m\u001b[43mhead_dim\u001b[49m\u001b[43m,\u001b[49m\u001b[43m \u001b[49m\u001b[43mdevice\u001b[49m\u001b[43m)\u001b[49m,device)\n\u001b[0;32m    309\u001b[0m _x2 \u001b[38;5;241m=\u001b[39m (x\u001b[38;5;241m.\u001b[39munsqueeze(\u001b[38;5;241m-\u001b[39m\u001b[38;5;241m1\u001b[39m) \u001b[38;5;241m*\u001b[39m x\u001b[38;5;241m.\u001b[39munsqueeze(\u001b[38;5;241m-\u001b[39m\u001b[38;5;241m2\u001b[39m))\u001b[38;5;241m.\u001b[39mflatten(start_dim\u001b[38;5;241m=\u001b[39m\u001b[38;5;241m-\u001b[39m\u001b[38;5;241m2\u001b[39m) \u001b[38;5;241m/\u001b[39m \u001b[38;5;28mcls\u001b[39m\u001b[38;5;241m.\u001b[39m_cached_sqrt(\u001b[38;5;241m2\u001b[39m\u001b[38;5;241m*\u001b[39mhead_dim, device)\n\u001b[0;32m    310\u001b[0m \u001b[38;5;28;01mreturn\u001b[39;00m torch\u001b[38;5;241m.\u001b[39mcat([_1, _x, _x2], dim\u001b[38;5;241m=\u001b[39m\u001b[38;5;241m-\u001b[39m\u001b[38;5;241m1\u001b[39m)\n",
      "File \u001b[1;32m~\\OneDrive\\Documents\\GitHub\\aimodels\\projects\\tooling\\mixers.py:301\u001b[0m, in \u001b[0;36mLinearAttentionMixer._cached_sqrt\u001b[1;34m(cls, x, device)\u001b[0m\n\u001b[0;32m    299\u001b[0m \u001b[38;5;28;01mif\u001b[39;00m x \u001b[38;5;129;01mnot\u001b[39;00m \u001b[38;5;129;01min\u001b[39;00m \u001b[38;5;28mcls\u001b[39m\u001b[38;5;241m.\u001b[39m_cached_sqrts:\n\u001b[0;32m    300\u001b[0m     \u001b[38;5;28mcls\u001b[39m\u001b[38;5;241m.\u001b[39m_cached_sqrts[x] \u001b[38;5;241m=\u001b[39m math\u001b[38;5;241m.\u001b[39msqrt(x)\n\u001b[1;32m--> 301\u001b[0m \u001b[38;5;28;01mreturn\u001b[39;00m \u001b[38;5;28;43mcls\u001b[39;49m\u001b[38;5;241;43m.\u001b[39;49m\u001b[43m_cached_sqrts\u001b[49m\u001b[43m[\u001b[49m\u001b[43mx\u001b[49m\u001b[43m]\u001b[49m\u001b[38;5;241;43m.\u001b[39;49m\u001b[43mto\u001b[49m(device)\n",
      "\u001b[1;31mAttributeError\u001b[0m: 'float' object has no attribute 'to'"
     ]
    }
   ],
   "source": [
    "from train import Trainer, SimpleTestCallback, ResidualGatingWarmupCallback, get_warmup_schedule, TimedStoppingCallback, PerplexityStoppingCallback\n",
    "test_trainer = Trainer(\n",
    "    test_model,\n",
    "    train_loader,\n",
    "    eval_loader = eval_loader,\n",
    "    device = \"cuda\",\n",
    "    tokenizer = tokenizer,\n",
    "    log_every = 250,\n",
    "    eval_every = 10_000,\n",
    "    schedule = get_warmup_schedule(),\n",
    "    autocast_dtype = torch.bfloat16,\n",
    "    callbacks = [TimedStoppingCallback(600)]\n",
    ")\n",
    "test_trainer.train(2)"
   ]
  },
  {
   "cell_type": "code",
   "execution_count": 24,
   "metadata": {},
   "outputs": [
    {
     "data": {
      "image/png": "[encoded data removed]",
      "text/plain": [
       "<Figure size 640x480 with 1 Axes>"
      ]
     },
     "metadata": {},
     "output_type": "display_data"
    }
   ],
   "source": [
    "import pandas as pd \n",
    "b = pd.DataFrame(base_trainer.logger.log)\n",
    "b[\"model\"] = \"base\"\n",
    "t = pd.DataFrame(test_trainer.logger.log)\n",
    "t[\"model\"] = \"test\"\n",
    "logs_df = pd.concat([b, t])\n",
    "\n",
    "from matplotlib import pyplot as plt\n",
    "# a plot with two lines...one is where model = gelu, mode = train, steps = 250; the other is the same but with model = swiglu\n",
    "train = logs_df[logs_df[\"mode\"] == \"train\"]\n",
    "full_steps = train[train[\"steps\"] == 250]\n",
    "full_steps = full_steps[full_steps[\"total_seconds\"] >=300]\n",
    "b = full_steps[full_steps[\"model\"] == \"base\"]\n",
    "t = full_steps[full_steps[\"model\"] == \"test\"]\n",
    "# plot ppl vs total_seconds\n",
    "# clear the plot\n",
    "plt.clf()\n",
    "plt.plot(b[\"total_seconds\"], b[\"ppl\"], label=\"base\")\n",
    "plt.plot(t[\"total_seconds\"], t[\"ppl\"], label=\"test\")\n",
    "plt.legend()\n",
    "plt.show() "
   ]
  }
 ],
 "metadata": {
  "kernelspec": {
   "display_name": "base",
   "language": "python",
   "name": "python3"
  },
  "language_info": {
   "codemirror_mode": {
    "name": "ipython",
    "version": 3
   },
   "file_extension": ".py",
   "mimetype": "text/x-python",
   "name": "python",
   "nbconvert_exporter": "python",
   "pygments_lexer": "ipython3",
   "version": "3.10.9"
  }
 },
 "nbformat": 4,
 "nbformat_minor": 2
}
