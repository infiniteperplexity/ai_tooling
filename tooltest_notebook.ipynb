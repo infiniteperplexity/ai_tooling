{
 "cells": [
  {
   "cell_type": "code",
   "execution_count": 1,
   "metadata": {},
   "outputs": [],
   "source": [
    "from functools import partial # There are going to be some things we want to initialize lazily to economize on resources and reuse constructor calls.\n",
    "import torch\n",
    "# everything will use the same tokenizer\n",
    "from transformers import AutoTokenizer\n",
    "mistral = \"mistralai/Mistral-7B-v0.1\"\n",
    "tokenizer = AutoTokenizer.from_pretrained(mistral, padding_side = \"right\")\n",
    "tokenizer.pad_token = tokenizer.eos_token"
   ]
  },
  {
   "cell_type": "code",
   "execution_count": 2,
   "metadata": {},
   "outputs": [
    {
     "name": "stdout",
     "output_type": "stream",
     "text": [
      "267_477_061\n",
      "Max length: 236695, estimated tokens: 87_664\n"
     ]
    },
    {
     "data": {
      "application/vnd.jupyter.widget-view+json": {
       "model_id": "de3a1f7b315a433b801e64fa773636f6",
       "version_major": 2,
       "version_minor": 0
      },
      "text/plain": [
       "Map:   0%|          | 0/217608 [00:00<?, ? examples/s]"
      ]
     },
     "metadata": {},
     "output_type": "display_data"
    },
    {
     "data": {
      "application/vnd.jupyter.widget-view+json": {
       "model_id": "dad95603d3fc40c6a8f43b284a0f8cfd",
       "version_major": 2,
       "version_minor": 0
      },
      "text/plain": [
       "Map:   0%|          | 0/24179 [00:00<?, ? examples/s]"
      ]
     },
     "metadata": {},
     "output_type": "display_data"
    }
   ],
   "source": [
    "## Everything will use the same dataset and dataloaders\n",
    "repo = \"wikimedia/wikipedia\"\n",
    "import datasets\n",
    "ds = datasets.load_dataset(repo, \"20231101.simple\")\n",
    "def quick_estimate_tokens(ds, field=\"text\", chars_per_token=2.7):\n",
    "    tally = 0\n",
    "    max_len = 0\n",
    "    lengths = {}\n",
    "    for row in ds:\n",
    "        l = len(row[field])\n",
    "        tally += l\n",
    "        lengths[l] = lengths.get(l, 0) + 1\n",
    "        if l > max_len:\n",
    "            max_len = l\n",
    "\n",
    "    print(f'{int(tally):_}')\n",
    "    print(f'Max length: {max_len}, estimated tokens: {int(max_len / chars_per_token):_}')\n",
    "    lengths = list(lengths.items())\n",
    "    lengths.sort(reverse=True)\n",
    "    return int(tally/chars_per_token), lengths\n",
    "\n",
    "total, length = quick_estimate_tokens(ds['train'], field=\"text\")\n",
    "ds = ds[\"train\"].train_test_split(test_size=0.1)\n",
    "\n",
    "max_tokens = 512\n",
    "def batch_tokenize(batch):\n",
    "    return {\"input_ids\": tokenizer(batch[\"text\"], padding=\"max_length\", truncation=True, max_length=max_tokens).input_ids}\n",
    "\n",
    "tokenized = ds.map(batch_tokenize, batched=True, batch_size=1000)\n",
    "\n",
    "from torch.utils.data import DataLoader\n",
    "\n",
    "tokenized.set_format(type='torch', columns=['input_ids'])"
   ]
  },
  {
   "cell_type": "code",
   "execution_count": 3,
   "metadata": {},
   "outputs": [
    {
     "name": "stdout",
     "output_type": "stream",
     "text": [
      "note: tying weights\n",
      "note: tying weights\n",
      "Base / test model:\n",
      "10_685_952 / 11_212_800 parameters;\n",
      "2_493_952 / 3_020_800 without embeddings.\n"
     ]
    }
   ],
   "source": [
    "%load_ext autoreload\n",
    "%autoreload 2\n",
    "\n",
    "batch_size = 32\n",
    "train_loader = DataLoader(tokenized[\"train\"], batch_size=batch_size, shuffle = True)\n",
    "eval_loader = DataLoader(tokenized[\"test\"], batch_size=32, shuffle = False)\n",
    "\n",
    "\n",
    "import sys\n",
    "path = r'C:\\Users\\infin\\OneDrive\\Documents\\GitHub\\aimodels\\projects\\tooling'\n",
    "sys.path.insert(0, path)\n",
    "from mixers import MixerModel, EmbeddingVectorizer, EmbeddingAndPositionalVectorizer, AttentionMixer, GatedStateMixer, no_activation, LinearAttentionMixer, MambaMixer\n",
    "import torch\n",
    "from functools import partial\n",
    "model_dim, layers, heads = 256, 3, 4\n",
    "max_seq_len = 512 ## !!! Should we factor this out of being a required argument?  Or is it, even, now?\n",
    "\n",
    "base_model = MixerModel(\n",
    "    model_size = model_dim,\n",
    "    num_layers = layers,\n",
    "    max_seq_len = 512, \n",
    "    #vectorizer = EmbeddingVectorizer,\n",
    "    seq_mixer = (AttentionMixer, {\"num_heads\": heads, \"apply_rope\": True}),\n",
    "    tokenizer = tokenizer,\n",
    ")\n",
    "\n",
    "test_model = MixerModel(\n",
    "    model_size = model_dim,\n",
    "    num_layers = layers,\n",
    "    max_seq_len = 512,\n",
    "    #vectorizer = EmbeddingVectorizer,\n",
    "    #seq_mixer = (LinearAttentionMixer, {\"num_heads\": heads, \"apply_rope\": True, \"feature_map\": LinearAttentionMixer.taylor_expansion}),\n",
    "    seq_mixer = MambaMixer,\n",
    "    tokenizer = tokenizer,\n",
    ")\n",
    "\n",
    "print(\n",
    "f\"\"\"Base / test model:\n",
    "{base_model.num_parameters():_} / {test_model.num_parameters():_} parameters;\n",
    "{base_model.num_parameters(include_embeddings = False):_} / {test_model.num_parameters(include_embeddings=False):_} without embeddings.\"\"\"\n",
    ")"
   ]
  },
  {
   "cell_type": "code",
   "execution_count": 4,
   "metadata": {},
   "outputs": [
    {
     "name": "stdout",
     "output_type": "stream",
     "text": [
      "Training for 1 epochs starting from epoch 1; 6801 steps per epoch.\n",
      "Beginning epoch 1\n",
      "{'mode': 'train', 'epoch': 1, 'step': 250, 'steps': 250, 'seconds': 18.212022066116333, 'total_seconds': 18.212022066116333, 'loss': 8.575355110168458, 'ppl': 5299.43505859375}\n",
      "{'mode': 'train', 'epoch': 1, 'step': 500, 'steps': 250, 'seconds': 18.22982406616211, 'total_seconds': 36.44184613227844, 'loss': 5.803220048904419, 'ppl': 331.36492919921875}\n",
      "{'mode': 'train', 'epoch': 1, 'step': 750, 'steps': 250, 'seconds': 18.38193416595459, 'total_seconds': 54.82378029823303, 'loss': 4.993321514129638, 'ppl': 147.42527770996094}\n",
      "{'mode': 'train', 'epoch': 1, 'step': 1000, 'steps': 250, 'seconds': 18.294933080673218, 'total_seconds': 73.11871337890625, 'loss': 4.595301892280578, 'ppl': 99.0180435180664}\n",
      "{'mode': 'train', 'epoch': 1, 'step': 1250, 'steps': 250, 'seconds': 18.41474461555481, 'total_seconds': 91.53345799446106, 'loss': 4.293869319915771, 'ppl': 73.24935913085938}\n",
      "{'mode': 'train', 'epoch': 1, 'step': 1500, 'steps': 250, 'seconds': 18.397465229034424, 'total_seconds': 109.93092322349548, 'loss': 4.061615769386291, 'ppl': 58.06806945800781}\n",
      "{'mode': 'train', 'epoch': 1, 'step': 1750, 'steps': 250, 'seconds': 18.328440189361572, 'total_seconds': 128.25936341285706, 'loss': 3.920027808189392, 'ppl': 50.4018440246582}\n",
      "{'mode': 'train', 'epoch': 1, 'step': 2000, 'steps': 250, 'seconds': 18.199976921081543, 'total_seconds': 146.4593403339386, 'loss': 3.764714517593384, 'ppl': 43.15138244628906}\n",
      "{'mode': 'train', 'epoch': 1, 'step': 2250, 'steps': 250, 'seconds': 18.115808963775635, 'total_seconds': 164.57514929771423, 'loss': 3.670029091835022, 'ppl': 39.2530517578125}\n",
      "{'mode': 'train', 'epoch': 1, 'step': 2500, 'steps': 250, 'seconds': 18.169756412506104, 'total_seconds': 182.74490571022034, 'loss': 3.504819031715393, 'ppl': 33.27541732788086}\n",
      "{'mode': 'train', 'epoch': 1, 'step': 2750, 'steps': 250, 'seconds': 18.228196382522583, 'total_seconds': 200.97310209274292, 'loss': 3.3887633743286134, 'ppl': 29.629291534423828}\n",
      "{'mode': 'train', 'epoch': 1, 'step': 3000, 'steps': 250, 'seconds': 18.295340299606323, 'total_seconds': 219.26844239234924, 'loss': 3.33216203212738, 'ppl': 27.99881362915039}\n",
      "{'mode': 'train', 'epoch': 1, 'step': 3250, 'steps': 250, 'seconds': 18.24323010444641, 'total_seconds': 237.51167249679565, 'loss': 3.239049404144287, 'ppl': 25.509462356567383}\n",
      "{'mode': 'train', 'epoch': 1, 'step': 3500, 'steps': 250, 'seconds': 18.258583068847656, 'total_seconds': 255.7702555656433, 'loss': 3.210213556289673, 'ppl': 24.784381866455078}\n",
      "{'mode': 'train', 'epoch': 1, 'step': 3750, 'steps': 250, 'seconds': 18.407299041748047, 'total_seconds': 274.17755460739136, 'loss': 3.192997100830078, 'ppl': 24.3613338470459}\n",
      "{'mode': 'train', 'epoch': 1, 'step': 4000, 'steps': 250, 'seconds': 18.24766778945923, 'total_seconds': 292.4252223968506, 'loss': 3.146613085746765, 'ppl': 23.25716209411621}\n",
      "{'mode': 'train', 'epoch': 1, 'step': 4250, 'steps': 250, 'seconds': 18.192291736602783, 'total_seconds': 310.61751413345337, 'loss': 3.1407071990966795, 'ppl': 23.12021255493164}\n",
      "{'mode': 'train', 'epoch': 1, 'step': 4500, 'steps': 250, 'seconds': 18.17866539955139, 'total_seconds': 328.79617953300476, 'loss': 3.0927705659866334, 'ppl': 22.03805160522461}\n",
      "{'mode': 'train', 'epoch': 1, 'step': 4750, 'steps': 250, 'seconds': 18.343093395233154, 'total_seconds': 347.1392729282379, 'loss': 3.0518031253814697, 'ppl': 21.153451919555664}\n",
      "{'mode': 'train', 'epoch': 1, 'step': 5000, 'steps': 250, 'seconds': 18.19466543197632, 'total_seconds': 365.33393836021423, 'loss': 3.0340883531570433, 'ppl': 20.782024383544922}\n",
      "{'mode': 'train', 'epoch': 1, 'step': 5250, 'steps': 250, 'seconds': 18.211790800094604, 'total_seconds': 383.54572916030884, 'loss': 3.01673521232605, 'ppl': 20.424503326416016}\n",
      "{'mode': 'train', 'epoch': 1, 'step': 5500, 'steps': 250, 'seconds': 18.218697547912598, 'total_seconds': 401.76442670822144, 'loss': 3.019052994728088, 'ppl': 20.471895217895508}\n",
      "{'mode': 'train', 'epoch': 1, 'step': 5750, 'steps': 250, 'seconds': 18.27014946937561, 'total_seconds': 420.03457617759705, 'loss': 3.0017860746383667, 'ppl': 20.121440887451172}\n",
      "{'mode': 'train', 'epoch': 1, 'step': 6000, 'steps': 250, 'seconds': 18.226921796798706, 'total_seconds': 438.26149797439575, 'loss': 2.967059295654297, 'ppl': 19.43468475341797}\n",
      "{'mode': 'train', 'epoch': 1, 'step': 6250, 'steps': 250, 'seconds': 18.2043559551239, 'total_seconds': 456.46585392951965, 'loss': 2.962738827705383, 'ppl': 19.35089683532715}\n",
      "{'mode': 'train', 'epoch': 1, 'step': 6500, 'steps': 250, 'seconds': 18.281673908233643, 'total_seconds': 474.7475278377533, 'loss': 2.9621714515686035, 'ppl': 19.339923858642578}\n",
      "{'mode': 'train', 'epoch': 1, 'step': 6750, 'steps': 250, 'seconds': 17.333385705947876, 'total_seconds': 492.0809135437012, 'loss': 2.9424973773956298, 'ppl': 18.96314811706543}\n",
      "{'mode': 'train', 'epoch': 1, 'step': 6801, 'steps': 51, 'seconds': 3.5046117305755615, 'total_seconds': 495.58552527427673, 'loss': 2.9385135033551384, 'ppl': 18.88774871826172}\n",
      "{'mode': 'eval', 'epoch': 1, 'step': 756, 'steps': 756, 'seconds': 28.092702865600586, 'total_seconds': 523.6782281398773, 'loss': 2.939882937562529, 'ppl': 18.913633346557617}\n",
      "running cleanup routines\n"
     ]
    }
   ],
   "source": [
    "from train import Trainer, SimpleTestCallback, ResidualGatingWarmupCallback, get_warmup_schedule, TimedStoppingCallback, PerplexityStoppingCallback\n",
    "base_trainer = Trainer(\n",
    "    base_model,\n",
    "    train_loader,\n",
    "    eval_loader = eval_loader,\n",
    "    device = \"cuda\",\n",
    "    tokenizer = tokenizer,\n",
    "    log_every = 250,\n",
    "    eval_every = 10_000,\n",
    "    schedule = get_warmup_schedule(),\n",
    "    autocast_dtype = torch.bfloat16,\n",
    "    callbacks = [TimedStoppingCallback(600)]\n",
    ")\n",
    "base_trainer.train(1) # this was taking 18.5 seconds for 250 steps...looks like pretty much exactly the same on Linux then?  Good.  Reassuring.\n"
   ]
  },
  {
   "cell_type": "code",
   "execution_count": 4,
   "metadata": {},
   "outputs": [
    {
     "name": "stdout",
     "output_type": "stream",
     "text": [
      "Training for 1 epochs starting from epoch 1; 6801 steps per epoch.\n",
      "Beginning epoch 1\n",
      "{'mode': 'train', 'epoch': 1, 'step': 250, 'steps': 250, 'seconds': 16.840214729309082, 'total_seconds': 16.840214729309082, 'loss': 8.605969369888305, 'ppl': 5464.1806640625}\n",
      "{'mode': 'train', 'epoch': 1, 'step': 500, 'steps': 250, 'seconds': 16.0704607963562, 'total_seconds': 32.91067552566528, 'loss': 5.7540454635620115, 'ppl': 315.46429443359375}\n",
      "{'mode': 'train', 'epoch': 1, 'step': 750, 'steps': 250, 'seconds': 16.00011897087097, 'total_seconds': 48.910794496536255, 'loss': 4.9742678356170655, 'ppl': 144.6428985595703}\n",
      "{'mode': 'train', 'epoch': 1, 'step': 1000, 'steps': 250, 'seconds': 15.95485782623291, 'total_seconds': 64.86565232276917, 'loss': 4.604127341270447, 'ppl': 99.8957748413086}\n",
      "{'mode': 'train', 'epoch': 1, 'step': 1250, 'steps': 250, 'seconds': 16.15483808517456, 'total_seconds': 81.02049040794373, 'loss': 4.3360558385849, 'ppl': 76.40557861328125}\n",
      "{'mode': 'train', 'epoch': 1, 'step': 1500, 'steps': 250, 'seconds': 16.044609785079956, 'total_seconds': 97.06510019302368, 'loss': 4.115712961196899, 'ppl': 61.2959098815918}\n",
      "{'mode': 'train', 'epoch': 1, 'step': 1750, 'steps': 250, 'seconds': 16.031266689300537, 'total_seconds': 113.09636688232422, 'loss': 3.9660352973937987, 'ppl': 52.77488327026367}\n",
      "{'mode': 'train', 'epoch': 1, 'step': 2000, 'steps': 250, 'seconds': 16.089705228805542, 'total_seconds': 129.18607211112976, 'loss': 3.857974585533142, 'ppl': 47.36930847167969}\n",
      "{'mode': 'train', 'epoch': 1, 'step': 2250, 'steps': 250, 'seconds': 16.079917192459106, 'total_seconds': 145.26598930358887, 'loss': 3.7770753345489503, 'ppl': 43.688079833984375}\n",
      "{'mode': 'train', 'epoch': 1, 'step': 2500, 'steps': 250, 'seconds': 16.22355842590332, 'total_seconds': 161.4895477294922, 'loss': 3.686596654891968, 'ppl': 39.908790588378906}\n",
      "{'mode': 'train', 'epoch': 1, 'step': 2750, 'steps': 250, 'seconds': 16.01441979408264, 'total_seconds': 177.50396752357483, 'loss': 3.6128742055892946, 'ppl': 37.07245635986328}\n",
      "{'mode': 'train', 'epoch': 1, 'step': 3000, 'steps': 250, 'seconds': 16.106149911880493, 'total_seconds': 193.61011743545532, 'loss': 3.5316693067550657, 'ppl': 34.18098068237305}\n",
      "{'mode': 'train', 'epoch': 1, 'step': 3250, 'steps': 250, 'seconds': 16.165497064590454, 'total_seconds': 209.77561450004578, 'loss': 3.4833181743621826, 'ppl': 32.567604064941406}\n",
      "{'mode': 'train', 'epoch': 1, 'step': 3500, 'steps': 250, 'seconds': 16.14736557006836, 'total_seconds': 225.92298007011414, 'loss': 3.458625244140625, 'ppl': 31.77326774597168}\n",
      "{'mode': 'train', 'epoch': 1, 'step': 3750, 'steps': 250, 'seconds': 16.257840871810913, 'total_seconds': 242.18082094192505, 'loss': 3.4106252174377443, 'ppl': 30.28417205810547}\n",
      "{'mode': 'train', 'epoch': 1, 'step': 4000, 'steps': 250, 'seconds': 16.131770372390747, 'total_seconds': 258.3125913143158, 'loss': 3.381920313835144, 'ppl': 29.427227020263672}\n",
      "{'mode': 'train', 'epoch': 1, 'step': 4250, 'steps': 250, 'seconds': 16.179614067077637, 'total_seconds': 274.49220538139343, 'loss': 3.357580793380737, 'ppl': 28.71963119506836}\n",
      "{'mode': 'train', 'epoch': 1, 'step': 4500, 'steps': 250, 'seconds': 16.16210651397705, 'total_seconds': 290.6543118953705, 'loss': 3.2940592403411864, 'ppl': 26.95204734802246}\n",
      "{'mode': 'train', 'epoch': 1, 'step': 4750, 'steps': 250, 'seconds': 16.21146035194397, 'total_seconds': 306.86577224731445, 'loss': 3.275970871925354, 'ppl': 26.46891212463379}\n",
      "{'mode': 'train', 'epoch': 1, 'step': 5000, 'steps': 250, 'seconds': 16.25611972808838, 'total_seconds': 323.12189197540283, 'loss': 3.277927967071533, 'ppl': 26.520761489868164}\n",
      "{'mode': 'train', 'epoch': 1, 'step': 5250, 'steps': 250, 'seconds': 16.120965480804443, 'total_seconds': 339.2428574562073, 'loss': 3.2545086307525635, 'ppl': 25.906885147094727}\n",
      "{'mode': 'train', 'epoch': 1, 'step': 5500, 'steps': 250, 'seconds': 16.2104549407959, 'total_seconds': 355.4533123970032, 'loss': 3.2102889699935915, 'ppl': 24.7862491607666}\n",
      "{'mode': 'train', 'epoch': 1, 'step': 5750, 'steps': 250, 'seconds': 16.316508293151855, 'total_seconds': 371.76982069015503, 'loss': 3.204573308944702, 'ppl': 24.644983291625977}\n",
      "{'mode': 'train', 'epoch': 1, 'step': 6000, 'steps': 250, 'seconds': 16.15060043334961, 'total_seconds': 387.92042112350464, 'loss': 3.207136978149414, 'ppl': 24.708242416381836}\n",
      "{'mode': 'train', 'epoch': 1, 'step': 6250, 'steps': 250, 'seconds': 16.158879280090332, 'total_seconds': 404.07930040359497, 'loss': 3.1943521184921266, 'ppl': 24.394365310668945}\n",
      "{'mode': 'train', 'epoch': 1, 'step': 6500, 'steps': 250, 'seconds': 16.188879251480103, 'total_seconds': 420.2681796550751, 'loss': 3.1433499498367308, 'ppl': 23.181392669677734}\n",
      "{'mode': 'train', 'epoch': 1, 'step': 6750, 'steps': 250, 'seconds': 16.358940362930298, 'total_seconds': 436.62712001800537, 'loss': 3.1516987581253053, 'ppl': 23.375741958618164}\n",
      "{'mode': 'train', 'epoch': 1, 'step': 6801, 'steps': 51, 'seconds': 3.3291027545928955, 'total_seconds': 439.95622277259827, 'loss': 3.1427907896976843, 'ppl': 23.168434143066406}\n",
      "{'mode': 'eval', 'epoch': 1, 'step': 756, 'steps': 756, 'seconds': 26.570566654205322, 'total_seconds': 466.5267894268036, 'loss': 3.131018990877444, 'ppl': 22.897296905517578}\n",
      "running cleanup routines\n"
     ]
    }
   ],
   "source": [
    "from train import Trainer, SimpleTestCallback, ResidualGatingWarmupCallback, get_warmup_schedule, TimedStoppingCallback, PerplexityStoppingCallback\n",
    "test_trainer = Trainer(\n",
    "    test_model,\n",
    "    train_loader,\n",
    "    eval_loader = eval_loader,\n",
    "    device = \"cuda\",\n",
    "    tokenizer = tokenizer,\n",
    "    log_every = 250,\n",
    "    eval_every = 10_000,\n",
    "    schedule = get_warmup_schedule(),\n",
    "    autocast_dtype = torch.bfloat16,\n",
    "    callbacks = [TimedStoppingCallback(600)]\n",
    ")\n",
    "test_trainer.train(2)"
   ]
  },
  {
   "cell_type": "code",
   "execution_count": 24,
   "metadata": {},
   "outputs": [
    {
     "data": {
      "image/png": "[encoded data removed]",
      "text/plain": [
       "<Figure size 640x480 with 1 Axes>"
      ]
     },
     "metadata": {},
     "output_type": "display_data"
    }
   ],
   "source": [
    "import pandas as pd \n",
    "b = pd.DataFrame(base_trainer.logger.log)\n",
    "b[\"model\"] = \"base\"\n",
    "t = pd.DataFrame(test_trainer.logger.log)\n",
    "t[\"model\"] = \"test\"\n",
    "logs_df = pd.concat([b, t])\n",
    "\n",
    "from matplotlib import pyplot as plt\n",
    "# a plot with two lines...one is where model = gelu, mode = train, steps = 250; the other is the same but with model = swiglu\n",
    "train = logs_df[logs_df[\"mode\"] == \"train\"]\n",
    "full_steps = train[train[\"steps\"] == 250]\n",
    "full_steps = full_steps[full_steps[\"total_seconds\"] >=300]\n",
    "b = full_steps[full_steps[\"model\"] == \"base\"]\n",
    "t = full_steps[full_steps[\"model\"] == \"test\"]\n",
    "# plot ppl vs total_seconds\n",
    "# clear the plot\n",
    "plt.clf()\n",
    "plt.plot(b[\"total_seconds\"], b[\"ppl\"], label=\"base\")\n",
    "plt.plot(t[\"total_seconds\"], t[\"ppl\"], label=\"test\")\n",
    "plt.legend()\n",
    "plt.show() "
   ]
  }
 ],
 "metadata": {
  "kernelspec": {
   "display_name": "base",
   "language": "python",
   "name": "python3"
  },
  "language_info": {
   "codemirror_mode": {
    "name": "ipython",
    "version": 3
   },
   "file_extension": ".py",
   "mimetype": "text/x-python",
   "name": "python",
   "nbconvert_exporter": "python",
   "pygments_lexer": "ipython3",
   "version": "3.11.7"
  }
 },
 "nbformat": 4,
 "nbformat_minor": 2
}
