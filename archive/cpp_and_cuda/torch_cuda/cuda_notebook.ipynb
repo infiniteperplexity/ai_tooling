{
 "cells": [
  {
   "cell_type": "code",
   "execution_count": 1,
   "metadata": {},
   "outputs": [
    {
     "data": {
      "text/plain": [
       "'11.8'"
      ]
     },
     "execution_count": 1,
     "metadata": {},
     "output_type": "execute_result"
    }
   ],
   "source": [
    "# The CUDA one isn't working, and is getting the same error as I got when I tried to compile the fast_transformers thing myself.\n",
    "### I think the problem is that nvcc points to /usr/bin/nvcc, which is the wrong version.\n",
    "\n",
    "# I think I need to add this permanently to the PATH:\n",
    "# /usr/local/cuda-11.8/bin\n",
    "# actually let's try using this in the terminal temporarily and seeing if we can compile.\n",
    "# export PATH=/usr/local/cuda-8.0/bin:$PATH\n",
    "# source ~/.bashrc (must be run before checking nvcc version, apparently?)\n",
    "## Okay that actually seemed to work."
   ]
  },
  {
   "cell_type": "code",
   "execution_count": null,
   "metadata": {},
   "outputs": [],
   "source": []
  },
  {
   "cell_type": "code",
   "execution_count": 4,
   "metadata": {},
   "outputs": [
    {
     "data": {
      "text/plain": [
       "<function lltm_cuda.PyCapsule.forward>"
      ]
     },
     "execution_count": 4,
     "metadata": {},
     "output_type": "execute_result"
    }
   ],
   "source": [
    "import torch\n",
    "import lltm_cuda # okay now it's definitely seeing it.\n",
    "dir(lltm_cuda)\n",
    "lltm_cuda.forward"
   ]
  }
 ],
 "metadata": {
  "kernelspec": {
   "display_name": "base",
   "language": "python",
   "name": "python3"
  },
  "language_info": {
   "codemirror_mode": {
    "name": "ipython",
    "version": 3
   },
   "file_extension": ".py",
   "mimetype": "text/x-python",
   "name": "python",
   "nbconvert_exporter": "python",
   "pygments_lexer": "ipython3",
   "version": "3.11.7"
  }
 },
 "nbformat": 4,
 "nbformat_minor": 2
}
